{
 "cells": [
  {
   "cell_type": "code",
   "execution_count": 1,
   "metadata": {},
   "outputs": [
    {
     "name": "stdout",
     "output_type": "stream",
     "text": [
      "Collecting lxml\n",
      "  Downloading lxml-5.3.0-cp312-cp312-win_amd64.whl.metadata (3.9 kB)\n",
      "Downloading lxml-5.3.0-cp312-cp312-win_amd64.whl (3.8 MB)\n",
      "   ---------------------------------------- 0.0/3.8 MB ? eta -:--:--\n",
      "   ---------------------------------------- 0.0/3.8 MB ? eta -:--:--\n",
      "   ---------------------------------------- 0.0/3.8 MB 330.3 kB/s eta 0:00:12\n",
      "    --------------------------------------- 0.1/3.8 MB 440.4 kB/s eta 0:00:09\n",
      "   --- ------------------------------------ 0.3/3.8 MB 2.0 MB/s eta 0:00:02\n",
      "   --------------- ------------------------ 1.4/3.8 MB 7.0 MB/s eta 0:00:01\n",
      "   -------------------------- ------------- 2.5/3.8 MB 10.2 MB/s eta 0:00:01\n",
      "   ----------------------------------- ---- 3.4/3.8 MB 10.9 MB/s eta 0:00:01\n",
      "   ---------------------------------------  3.8/3.8 MB 11.4 MB/s eta 0:00:01\n",
      "   ---------------------------------------  3.8/3.8 MB 10.0 MB/s eta 0:00:01\n",
      "   ---------------------------------------  3.8/3.8 MB 8.7 MB/s eta 0:00:01\n",
      "   ---------------------------------------- 3.8/3.8 MB 7.9 MB/s eta 0:00:00\n",
      "Installing collected packages: lxml\n",
      "Successfully installed lxml-5.3.0\n"
     ]
    },
    {
     "name": "stderr",
     "output_type": "stream",
     "text": [
      "\n",
      "[notice] A new release of pip is available: 24.0 -> 24.2\n",
      "[notice] To update, run: python.exe -m pip install --upgrade pip\n"
     ]
    }
   ],
   "source": [
    "!pip install lxml\n"
   ]
  },
  {
   "cell_type": "code",
   "execution_count": 3,
   "metadata": {},
   "outputs": [],
   "source": [
    "# Importing libraries\n",
    "from bs4 import BeautifulSoup\n",
    "import requests\n",
    "\n",
    "def main(URL):\n",
    "    # Opening the output file in append mode using a context manager\n",
    "    with open(\"out.csv\", \"a\") as file:\n",
    "        # Specifying user agent\n",
    "        HEADERS = {\n",
    "            'User-Agent': 'Mozilla/5.0 (X11; Linux x86_64) AppleWebKit/537.36 (KHTML, like Gecko) Chrome/44.0.2403.157 Safari/537.36',\n",
    "            'Accept-Language': 'en-US, en;q=0.5'\n",
    "        }\n",
    "\n",
    "        # Making the HTTP request\n",
    "        webpage = requests.get(URL, headers=HEADERS)\n",
    "\n",
    "        # Creating the Soup object containing all data\n",
    "        soup = BeautifulSoup(webpage.content, \"lxml\")\n",
    "\n",
    "        # Retrieving product title\n",
    "        try:\n",
    "            title = soup.find(\"span\", attrs={\"id\": 'productTitle'}).string.strip().replace(',', '')\n",
    "        except AttributeError:\n",
    "            title = \"NA\"\n",
    "        print(\"Product Title = \", title)\n",
    "        file.write(f\"{title},\")\n",
    "\n",
    "        # Retrieving price\n",
    "        try:\n",
    "            price = soup.find(\"span\", attrs={'class': 'a-price-whole'}).string.strip().replace(',', '')\n",
    "        except AttributeError:\n",
    "            price = \"NA\"\n",
    "        print(\"Product Price = \", price)\n",
    "        file.write(f\"{price},\")\n",
    "\n",
    "        # Retrieving product rating\n",
    "        try:\n",
    "            rating = soup.find(\"i\", attrs={'class': 'a-icon a-icon-star a-star-4-5'}).string.strip().replace(',', '')\n",
    "        except AttributeError:\n",
    "            try:\n",
    "                rating = soup.find(\"span\", attrs={'class': 'a-icon-alt'}).string.strip().replace(',', '')\n",
    "            except AttributeError:\n",
    "                rating = \"NA\"\n",
    "        print(\"Overall Rating = \", rating)\n",
    "        file.write(f\"{rating},\")\n",
    "\n",
    "        # Retrieving review count\n",
    "        try:\n",
    "            review_count = soup.find(\"span\", attrs={'id': 'acrCustomerReviewText'}).string.strip().replace(',', '')\n",
    "        except AttributeError:\n",
    "            review_count = \"NA\"\n",
    "        print(\"Total Reviews = \", review_count)\n",
    "        file.write(f\"{review_count},\")\n",
    "\n",
    "        # Retrieving availability status\n",
    "        try:\n",
    "            available = soup.find(\"div\", attrs={'id': 'availability'}).find(\"span\").string.strip().replace(',', '')\n",
    "        except AttributeError:\n",
    "            available = \"NA\"\n",
    "        print(\"Availability = \", available)\n",
    "        file.write(f\"{available}\\n\")\n",
    "\n",
    "\n",
    "if __name__ == '__main__':\n",
    "    # Opening the URL file to access URLs\n",
    "    with open(\"url.txt\", \"r\") as file:\n",
    "        # Iterating over the URLs\n",
    "        for url in file.readlines():\n",
    "            main(url.strip())\n"
   ]
  },
  {
   "cell_type": "code",
   "execution_count": null,
   "metadata": {},
   "outputs": [],
   "source": []
  }
 ],
 "metadata": {
  "kernelspec": {
   "display_name": "Python 3",
   "language": "python",
   "name": "python3"
  },
  "language_info": {
   "codemirror_mode": {
    "name": "ipython",
    "version": 3
   },
   "file_extension": ".py",
   "mimetype": "text/x-python",
   "name": "python",
   "nbconvert_exporter": "python",
   "pygments_lexer": "ipython3",
   "version": "3.12.2"
  }
 },
 "nbformat": 4,
 "nbformat_minor": 2
}
